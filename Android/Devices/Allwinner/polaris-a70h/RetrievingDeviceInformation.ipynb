{
 "cells": [
  {
   "cell_type": "markdown",
   "metadata": {},
   "source": [
    "I have collated a few tools together in the tools directory.  Part of the sunxi-tools i'm going to retrieve some info from the tablet which is in FEL mode.  For a while I didn't think i could get it into FEL mode till I realised that you don't get any screen indication nothing.  I only discovered that although the tablet looked like it was still off when you attach the cable and run lsub you will see it does show up... well it did for me.  Following the information from [Sunxi - Retrieving Device Information](http://linux-sunxi.org/Retrieving_device_information) I'll note my steps here.\n",
    "\n",
    "Non-root access for FEL mode\n",
    "\n",
    "To allow LiveSuit and other commands to access the cubieboard in FEL mode add the following file /etc/udev/rules.d/52-fel.rules and giv it the following contents.\n",
    "\n",
    "BUS==\"usb\", ACTION==\"add\", ATTRS{idVendor}==\"1f3a\", ATTRS{idProduct}==\"efe8\",\n",
    "MODE=\"0666\", OWNER=\"yourusername\", GROUP=\"root\"\n",
    "\n",
    "This should give you access to the usb device"
   ]
  },
  {
   "cell_type": "code",
   "execution_count": 3,
   "metadata": {
    "collapsed": false
   },
   "outputs": [
    {
     "name": "stdout",
     "output_type": "stream",
     "text": [
      "AWUSBFEX soc=00001650(A23) 00000001 ver=0001 44 08 scratchpad=00007e00 00000000 00000000\r\n"
     ]
    }
   ],
   "source": [
    "!tools/fel version"
   ]
  },
  {
   "cell_type": "code",
   "execution_count": 4,
   "metadata": {
    "collapsed": false
   },
   "outputs": [
    {
     "name": "stdout",
     "output_type": "stream",
     "text": [
      "libusb usb_bulk_send error -7\r\n"
     ]
    }
   ],
   "source": [
    "!tools/fel read 0x42400000 0x82d0 device_info/boot1.header"
   ]
  },
  {
   "cell_type": "code",
   "execution_count": null,
   "metadata": {
    "collapsed": true
   },
   "outputs": [],
   "source": [
    "!tools/bin2fex script.bin script.fex"
   ]
  }
 ],
 "metadata": {
  "kernelspec": {
   "display_name": "Python 2",
   "language": "python",
   "name": "python2"
  },
  "language_info": {
   "codemirror_mode": {
    "name": "ipython",
    "version": 2
   },
   "file_extension": ".py",
   "mimetype": "text/x-python",
   "name": "python",
   "nbconvert_exporter": "python",
   "pygments_lexer": "ipython2",
   "version": "2.7.8"
  }
 },
 "nbformat": 4,
 "nbformat_minor": 0
}
