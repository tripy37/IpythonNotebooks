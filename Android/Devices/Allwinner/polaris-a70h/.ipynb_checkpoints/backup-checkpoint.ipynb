{
 "cells": [
  {
   "cell_type": "markdown",
   "metadata": {},
   "source": [
    "We can connect to our device using the android tool adb\n",
    "\n",
    "You should have an adb server deamon running already with root"
   ]
  },
  {
   "cell_type": "code",
   "execution_count": 1,
   "metadata": {
    "collapsed": false
   },
   "outputs": [
    {
     "name": "stdout",
     "output_type": "stream",
     "text": [
      "major minor  #blocks  name\r",
      "\r\n",
      "\r",
      "\r\n",
      "  93        0      32768 nanda\r",
      "\r\n",
      "  93        8      16384 nandb\r",
      "\r\n",
      "  93       16      16384 nandc\r",
      "\r\n",
      "  93       24     786432 nandd\r",
      "\r\n",
      "  93       32    1048576 nande\r",
      "\r\n",
      "  93       40      16384 nandf\r",
      "\r\n",
      "  93       48      32768 nandg\r",
      "\r\n",
      "  93       56     131072 nandh\r",
      "\r\n",
      "  93       64     131072 nandi\r",
      "\r\n",
      "  93       72    4675584 nandj\r",
      "\r\n"
     ]
    }
   ],
   "source": [
    "# Lets see what partitions we have on the device\n",
    "\n",
    "!tools/adb shell \"cat /proc/partitions\""
   ]
  },
  {
   "cell_type": "code",
   "execution_count": 5,
   "metadata": {
    "collapsed": false
   },
   "outputs": [
    {
     "name": "stdout",
     "output_type": "stream",
     "text": [
      "total 0\r\n",
      "drwxrwxrwx 1 root root 0 Mar 14 12:33 boot\r\n",
      "drwxrwxrwx 1 root root 0 Mar 14 12:34 recovery\r\n",
      "drwxrwxrwx 1 root root 0 Mar 14 12:33 system\r\n"
     ]
    }
   ],
   "source": [
    "# We have an empty directory where we can dump our partition images\n",
    "\n",
    "!ls -l tablet/"
   ]
  },
  {
   "cell_type": "code",
   "execution_count": 7,
   "metadata": {
    "collapsed": false
   },
   "outputs": [
    {
     "name": "stdout",
     "output_type": "stream",
     "text": [
      "lrwxrwxrwx root     root              2015-03-13 11:38 UDISK -> /dev/block/nandj\r",
      "\r\n",
      "lrwxrwxrwx root     root              2015-03-13 11:38 boot -> /dev/block/nandc\r",
      "\r\n",
      "lrwxrwxrwx root     root              2015-03-13 11:38 boot-resource -> /dev/block/nanda\r",
      "\r\n",
      "lrwxrwxrwx root     root              2015-03-13 11:38 cache -> /dev/block/nandh\r",
      "\r\n",
      "lrwxrwxrwx root     root              2015-03-13 11:38 data -> /dev/block/nande\r",
      "\r\n",
      "lrwxrwxrwx root     root              2015-03-13 11:38 databk -> /dev/block/nandi\r",
      "\r\n",
      "lrwxrwxrwx root     root              2015-03-13 11:38 env -> /dev/block/nandb\r",
      "\r\n",
      "lrwxrwxrwx root     root              2015-03-13 11:38 misc -> /dev/block/nandf\r",
      "\r\n",
      "lrwxrwxrwx root     root              2015-03-13 11:38 recovery -> /dev/block/nandg\r",
      "\r\n",
      "lrwxrwxrwx root     root              2015-03-13 11:38 system -> /dev/block/nandd\r",
      "\r\n"
     ]
    }
   ],
   "source": [
    "# Lets check the nameing conventions in the device\n",
    "\n",
    "!tools/adb shell \"ls -al /dev/block/by-name\""
   ]
  },
  {
   "cell_type": "code",
   "execution_count": 32,
   "metadata": {
    "collapsed": false
   },
   "outputs": [
    {
     "name": "stdout",
     "output_type": "stream",
     "text": [
      "65367+500 records in\r\n",
      "65552+1 records out\r\n",
      "33562881 bytes (34 MB) copied, 8.4137 s, 4.0 MB/s\r\n"
     ]
    }
   ],
   "source": [
    "# Now lets pull each partition into our tablet directory only pull one at a time\n",
    "\n",
    "!tools/adb shell \"dd if=/dev/block/nanda 2>/dev/null\" | dd of=tablet/nanda.boot-resource.img"
   ]
  },
  {
   "cell_type": "code",
   "execution_count": 33,
   "metadata": {
    "collapsed": false
   },
   "outputs": [
    {
     "name": "stdout",
     "output_type": "stream",
     "text": [
      "32768+0 records in\r\n",
      "32768+0 records out\r\n",
      "16777216 bytes (17 MB) copied, 4.04672 s, 4.1 MB/s\r\n"
     ]
    }
   ],
   "source": [
    "!tools/adb shell \"dd if=/dev/block/nandb 2>/dev/null\" | dd of=tablet/nandb.env.img"
   ]
  },
  {
   "cell_type": "code",
   "execution_count": 21,
   "metadata": {
    "collapsed": false
   },
   "outputs": [],
   "source": [
    "!tools/adb shell \"dd if=/dev/block/nandc 2>/dev/null\" | dd of=tablet/nandc.boot.img"
   ]
  },
  {
   "cell_type": "code",
   "execution_count": 23,
   "metadata": {
    "collapsed": false
   },
   "outputs": [],
   "source": [
    "!tools/adb shell \"dd if=/dev/block/nandd 2>/dev/null\" | dd of=tablet/nandd.system.img"
   ]
  },
  {
   "cell_type": "code",
   "execution_count": 2,
   "metadata": {
    "collapsed": false
   },
   "outputs": [],
   "source": [
    "!tools/adb shell \"dd if=/dev/block/nande 2>/dev/null\" | dd of=tablet/nande.data.img"
   ]
  },
  {
   "cell_type": "code",
   "execution_count": 23,
   "metadata": {
    "collapsed": false
   },
   "outputs": [],
   "source": [
    "!tools/adb shell \"dd if=/dev/block/nandf 2>/dev/null\" | dd of=tablet/nandf.misc.img"
   ]
  },
  {
   "cell_type": "code",
   "execution_count": 23,
   "metadata": {
    "collapsed": false
   },
   "outputs": [],
   "source": [
    "!tools/adb shell \"dd if=/dev/block/nandg 2>/dev/null\" | dd of=tablet/nandg.recovery.img"
   ]
  },
  {
   "cell_type": "code",
   "execution_count": 23,
   "metadata": {
    "collapsed": false
   },
   "outputs": [],
   "source": [
    "!tools/adb shell \"dd if=/dev/block/nandh 2>/dev/null\" | dd of=tablet/nandh.cache.img"
   ]
  },
  {
   "cell_type": "code",
   "execution_count": 23,
   "metadata": {
    "collapsed": false
   },
   "outputs": [],
   "source": [
    "!tools/adb shell \"dd if=/dev/block/nandi 2>/dev/null\" | dd of=tablet/nandi.databk.img"
   ]
  },
  {
   "cell_type": "code",
   "execution_count": 23,
   "metadata": {
    "collapsed": false
   },
   "outputs": [],
   "source": [
    "!tools/adb shell \"dd if=/dev/block/nandj 2>/dev/null\" | dd of=tablet/nandj.UDISK.img"
   ]
  }
 ],
 "metadata": {
  "kernelspec": {
   "display_name": "Python 2",
   "language": "python",
   "name": "python2"
  },
  "language_info": {
   "codemirror_mode": {
    "name": "ipython",
    "version": 2
   },
   "file_extension": ".py",
   "mimetype": "text/x-python",
   "name": "python",
   "nbconvert_exporter": "python",
   "pygments_lexer": "ipython2",
   "version": "2.7.8"
  }
 },
 "nbformat": 4,
 "nbformat_minor": 0
}
