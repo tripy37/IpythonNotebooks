{
 "cells": [
  {
   "cell_type": "markdown",
   "metadata": {},
   "source": [
    "The nandg recovery image is much the same as the boot image but will boot into recovery which is a minimal boot envoirnoment.  You can connnect with adb but no shell access or shell commands."
   ]
  },
  {
   "cell_type": "code",
   "execution_count": 1,
   "metadata": {
    "collapsed": false
   },
   "outputs": [
    {
     "name": "stdout",
     "output_type": "stream",
     "text": [
      "16388\ttablet/nandc.boot.img\r\n"
     ]
    }
   ],
   "source": [
    "# The partition size of the image in bytes\n",
    "\n",
    "!du tablet/nandc.boot.img"
   ]
  },
  {
   "cell_type": "code",
   "execution_count": 2,
   "metadata": {
    "collapsed": false
   },
   "outputs": [
    {
     "name": "stdout",
     "output_type": "stream",
     "text": [
      "tablet/nandc.boot.img: Android bootimg, kernel (0x40008000), ramdisk (0x41000000), page size: 2048, cmdline (console=ttyS0,115200 rw init=/init loglevel=4)\r\n"
     ]
    }
   ],
   "source": [
    "# We can use file to find out what kind of image we have.\n",
    "\n",
    "!file tablet/nandc.boot.img"
   ]
  },
  {
   "cell_type": "code",
   "execution_count": 3,
   "metadata": {
    "collapsed": false
   },
   "outputs": [
    {
     "name": "stdout",
     "output_type": "stream",
     "text": [
      "BOARD_KERNEL_CMDLINE console=ttyS0,115200 rw init=/init loglevel=4\r\n",
      "BOARD_KERNEL_BASE 40000000\r\n",
      "BOARD_PAGE_SIZE 2048\r\n"
     ]
    }
   ],
   "source": [
    "# We can unpack this type of image file using one of the tools from the android sdk\n",
    "\n",
    "!tools/unpackbootimg -i tablet/nandc.boot.img -o tablet/boot/"
   ]
  },
  {
   "cell_type": "code",
   "execution_count": 7,
   "metadata": {
    "collapsed": false
   },
   "outputs": [
    {
     "name": "stdout",
     "output_type": "stream",
     "text": [
      "-rwxrwxrwx 1       9 Mar 16 14:05 tablet/boot/nandc.boot.img-base\r\n",
      "-rwxrwxrwx 1      46 Mar 16 14:05 tablet/boot/nandc.boot.img-cmdline\r\n",
      "-rwxrwxrwx 1       5 Mar 16 14:05 tablet/boot/nandc.boot.img-pagesize\r\n",
      "-rwxrwxrwx 1 1808423 Mar 16 14:05 tablet/boot/nandc.boot.img-ramdisk.gz\r\n",
      "-rwxrwxrwx 1 7637412 Mar 16 14:05 tablet/boot/nandc.boot.img-zImage\r\n",
      "-rwxrwxrwx 1      62 Mar 16 13:55 tablet/boot/README.md\r\n"
     ]
    }
   ],
   "source": [
    "# And this is what we get from unpacking this image file\n",
    "\n",
    "!ls -lgGa tablet/boot/*.*"
   ]
  },
  {
   "cell_type": "code",
   "execution_count": 8,
   "metadata": {
    "collapsed": false
   },
   "outputs": [
    {
     "name": "stderr",
     "output_type": "stream",
     "text": [
      "8272 blocks\n"
     ]
    }
   ],
   "source": [
    "%%bash\n",
    "# Lets create a directory and unpack the ramdisk file\n",
    "\n",
    "cd tablet/boot/img-ramdisk/\n",
    "gunzip -c ../nandc.boot.img-ramdisk.gz | cpio -i"
   ]
  },
  {
   "cell_type": "code",
   "execution_count": 9,
   "metadata": {
    "collapsed": false
   },
   "outputs": [
    {
     "name": "stdout",
     "output_type": "stream",
     "text": [
      "total 3998\r\n",
      "drwxrwxrwx 1     448 Mar 16 14:08 .\r\n",
      "drwxrwxrwx 1    4096 Mar 16 14:05 ..\r\n",
      "drwxrwxrwx 1       0 Mar 16 14:08 data\r\n",
      "-rwxrwxrwx 1     116 Mar 16 14:08 default.prop\r\n",
      "drwxrwxrwx 1       0 Mar 16 14:08 dev\r\n",
      "-rwxrwxrwx 1     851 Mar 16 14:08 fstab.sun8i\r\n",
      "-rwxrwxrwx 1  113536 Mar 16 14:08 init\r\n",
      "-rwxrwxrwx 1    2487 Mar 16 14:08 init.goldfish.rc\r\n",
      "-rwxrwxrwx 1 2457600 Mar 16 14:08 initlogo.rle\r\n",
      "-rwxrwxrwx 1   20824 Mar 16 14:08 init.rc\r\n",
      "-rwxrwxrwx 1     132 Mar 16 14:08 init.recovery.sun8i.rc\r\n",
      "-rwxrwxrwx 1    6557 Mar 16 14:08 init.sun8i.rc\r\n",
      "-rwxrwxrwx 1    3481 Mar 16 14:08 init.sun8i.usb.rc\r\n",
      "-rwxrwxrwx 1    1795 Mar 16 14:08 init.trace.rc\r\n",
      "-rwxrwxrwx 1    3947 Mar 16 14:08 init.usb.rc\r\n",
      "-rwxrwxrwx 1 1453290 Mar 16 14:08 nand.ko\r\n",
      "drwxrwxrwx 1       0 Mar 16 14:08 proc\r\n",
      "-rwxrwxrwx 1      58 Mar 16 13:59 README.md\r\n",
      "drwxrwxrwx 1     344 Mar 16 14:08 sbin\r\n",
      "drwxrwxrwx 1       0 Mar 16 14:08 sys\r\n",
      "drwxrwxrwx 1       0 Mar 16 14:08 system\r\n",
      "-rwxrwxrwx 1     272 Mar 16 14:08 ueventd.goldfish.rc\r\n",
      "-rwxrwxrwx 1    4024 Mar 16 14:08 ueventd.rc\r\n",
      "-rwxrwxrwx 1     995 Mar 16 14:08 ueventd.sun8i.rc\r\n"
     ]
    }
   ],
   "source": [
    "# And what we have here\n",
    "\n",
    "!ls -lgGa tablet/boot/img-ramdisk/"
   ]
  }
 ],
 "metadata": {
  "kernelspec": {
   "display_name": "Python 2",
   "language": "python",
   "name": "python2"
  },
  "language_info": {
   "codemirror_mode": {
    "name": "ipython",
    "version": 2
   },
   "file_extension": ".py",
   "mimetype": "text/x-python",
   "name": "python",
   "nbconvert_exporter": "python",
   "pygments_lexer": "ipython2",
   "version": "2.7.8"
  }
 },
 "nbformat": 4,
 "nbformat_minor": 0
}
