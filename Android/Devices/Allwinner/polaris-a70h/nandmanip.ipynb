{
 "metadata": {
  "name": "",
  "signature": "sha256:33d68f2f8fad3f1c32aa451fe4aa4d37783dc0b9c68ab07617fa1fdbaa18cb5e"
 },
 "nbformat": 3,
 "nbformat_minor": 0,
 "worksheets": [
  {
   "cells": [
    {
     "cell_type": "markdown",
     "metadata": {},
     "source": [
      "In this series of notebooks, i'm going to note the steps i have taken to investigate what damage OEM companies are able to do to  the android platform.  This was an attempt to find out what parts of the tablet or phone were tampered with by the company or individual befor being shipped to the end user.  Hopefully I may be able to find a solution to fix any damage done and try to reach a position of confidence that the original ROM can be considered free from any malicous code.\n",
      "\n",
      "Series of Steps:\n",
      "* Back up the Tablet/Phone by retrieving the partitions or drive images.\n",
      "  * [Partition nandc boot image](http://localhost:8888/notebooks/nandc-boot-img.ipynb)\n",
      "  * [Partition nandg recovery image](http://localhost:8888/notebooks/nandg-recovery-img.ipynb)\n",
      "* Investigate the file system layout and determine boot process and initialisation of device.\n",
      "* Detemine areas of vunriablity and try to discount if said areas have been tampered with.\n",
      "* Investigate tampered areas and seek possible solutioins to clear or fix damaged or surplus code."
     ]
    },
    {
     "cell_type": "code",
     "collapsed": false,
     "input": [
      "# Here we list the images pulled from the device\n",
      "\n",
      "!ls -lgGS tablet/*.img"
     ],
     "language": "python",
     "metadata": {},
     "outputs": [
      {
       "output_type": "stream",
       "stream": "stdout",
       "text": [
        "-rw-r--r-- 1 1073741824 Mar  2 22:12 tablet/nande.data.img\r\n",
        "-rw-r--r-- 1  805306368 Mar  7 17:43 tablet/nandd.system.img\r\n",
        "-rw-r--r-- 1  134217728 Mar  2 22:40 tablet/nandh.cache.img\r\n",
        "-rw-r--r-- 1  134217728 Mar  2 22:41 tablet/nandi.databk.img\r\n",
        "-rw-r--r-- 1   33554432 Mar  7 14:12 tablet/nanda.bootloader.img\r\n",
        "-rw-r--r-- 1   33554432 Feb 28 19:40 tablet/nandg.recovery.img\r\n",
        "-rw-r--r-- 1   16777216 Mar  2 16:44 tablet/nandb.env.img\r\n",
        "-rw-r--r-- 1   16777216 Feb 28 16:44 tablet/nandc.boot.img\r\n",
        "-rw-r--r-- 1   16777216 Mar  2 22:39 tablet/nandf.misc.img\r\n"
       ]
      }
     ],
     "prompt_number": 34
    },
    {
     "cell_type": "code",
     "collapsed": false,
     "input": [
      "!ls"
     ],
     "language": "python",
     "metadata": {},
     "outputs": [
      {
       "output_type": "stream",
       "stream": "stdout",
       "text": [
        "DFExtract  mnt_lhs\t\t nandg-recovery-img.ipynb  outscript.bin  tablet\r\n",
        "mnt\t   nandc-boot-img.ipynb  nandmanip.ipynb\t   romimg\t  tools\r\n"
       ]
      }
     ],
     "prompt_number": 2
    },
    {
     "cell_type": "code",
     "collapsed": false,
     "input": [],
     "language": "python",
     "metadata": {},
     "outputs": []
    }
   ],
   "metadata": {}
  }
 ]
}