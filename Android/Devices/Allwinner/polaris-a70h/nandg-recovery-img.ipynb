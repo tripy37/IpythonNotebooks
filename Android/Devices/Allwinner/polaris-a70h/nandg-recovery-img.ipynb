{
 "cells": [
  {
   "cell_type": "markdown",
   "metadata": {},
   "source": [
    "The nandg recovery image is much the same as the boot image but will boot into recovery which is a minimal boot envoirnoment.  You can connnect with adb but no shell access or shell commands.\n",
    "\n",
    "We have the exact same files from extraction and ramdisk.gz unpacked is quite a bit different."
   ]
  },
  {
   "cell_type": "code",
   "execution_count": 34,
   "metadata": {
    "collapsed": false
   },
   "outputs": [
    {
     "name": "stdout",
     "output_type": "stream",
     "text": [
      "-rw-r--r-- 1 1073741824 Mar  2 22:12 tablet/nande.data.img\r\n",
      "-rw-r--r-- 1  805306368 Mar  7 17:43 tablet/nandd.system.img\r\n",
      "-rw-r--r-- 1  134217728 Mar  2 22:40 tablet/nandh.cache.img\r\n",
      "-rw-r--r-- 1  134217728 Mar  2 22:41 tablet/nandi.databk.img\r\n",
      "-rw-r--r-- 1   33554432 Mar  7 14:12 tablet/nanda.bootloader.img\r\n",
      "-rw-r--r-- 1   33554432 Feb 28 19:40 tablet/nandg.recovery.img\r\n",
      "-rw-r--r-- 1   16777216 Mar  2 16:44 tablet/nandb.env.img\r\n",
      "-rw-r--r-- 1   16777216 Feb 28 16:44 tablet/nandc.boot.img\r\n",
      "-rw-r--r-- 1   16777216 Mar  2 22:39 tablet/nandf.misc.img\r\n"
     ]
    }
   ],
   "source": [
    "# Here we list the images pulled from the device\n",
    "\n",
    "!ls -lgGS tablet/*.img"
   ]
  },
  {
   "cell_type": "code",
   "execution_count": 1,
   "metadata": {
    "collapsed": false
   },
   "outputs": [
    {
     "name": "stdout",
     "output_type": "stream",
     "text": [
      "tablet/nandg.recovery.img: Android bootimg, kernel (0x40008000), ramdisk (0x41000000), page size: 2048, cmdline (console=ttyS0,115200 rw init=/init loglevel=4)\r\n"
     ]
    }
   ],
   "source": [
    "# We can use file to find out what kind of image we have.\n",
    "\n",
    "!file tablet/nandg.recovery.img"
   ]
  },
  {
   "cell_type": "code",
   "execution_count": 2,
   "metadata": {
    "collapsed": false
   },
   "outputs": [
    {
     "name": "stdout",
     "output_type": "stream",
     "text": [
      "BOARD_KERNEL_CMDLINE console=ttyS0,115200 rw init=/init loglevel=4\r\n",
      "BOARD_KERNEL_BASE 40000000\r\n",
      "BOARD_PAGE_SIZE 2048\r\n"
     ]
    }
   ],
   "source": [
    "# We can unpack this type of image file using one of the tools from the android sdk\n",
    "\n",
    "!tools/unpackbootimg -i tablet/nandg.recovery.img -o tablet/recovery"
   ]
  },
  {
   "cell_type": "code",
   "execution_count": 3,
   "metadata": {
    "collapsed": false
   },
   "outputs": [
    {
     "name": "stdout",
     "output_type": "stream",
     "text": [
      "-rw-r--r-- 1       9 Mar  9 23:23 tablet/recovery/nandg.recovery.img-base\r\n",
      "-rw-r--r-- 1      46 Mar  9 23:23 tablet/recovery/nandg.recovery.img-cmdline\r\n",
      "-rw-r--r-- 1       5 Mar  9 23:23 tablet/recovery/nandg.recovery.img-pagesize\r\n",
      "-rw-r--r-- 1 5623172 Mar  9 23:23 tablet/recovery/nandg.recovery.img-ramdisk.gz\r\n",
      "-rw-r--r-- 1 7637412 Mar  9 23:23 tablet/recovery/nandg.recovery.img-zImage\r\n"
     ]
    }
   ],
   "source": [
    "# And this is what we get from unpacking this image img\n",
    "!ls -lgGa tablet/recovery/*.*"
   ]
  },
  {
   "cell_type": "code",
   "execution_count": 15,
   "metadata": {
    "collapsed": false
   },
   "outputs": [
    {
     "name": "stdout",
     "output_type": "stream",
     "text": [
      "27247 blocks\r\n"
     ]
    }
   ],
   "source": [
    "# We can extract the ramdisk.gz file and examine what is inside\n",
    "!cd tablet/recovery/img-ramdisk/ && gunzip -c ../nandg.recovery.img-ramdisk.gz | cpio -i"
   ]
  },
  {
   "cell_type": "code",
   "execution_count": 16,
   "metadata": {
    "collapsed": false
   },
   "outputs": [
    {
     "name": "stdout",
     "output_type": "stream",
     "text": [
      "total 12884\r\n",
      "drwxr-xr-x 11    4096 Mar  9 23:39 .\r\n",
      "drwxr-xr-x  3    4096 Mar  9 23:37 ..\r\n",
      "-rw-r--r--  1  425152 Mar  9 23:39 aw5306_ts.ko\r\n",
      "drwxrwx--x  2    4096 Mar  9 23:39 data\r\n",
      "-rw-r--r--  1    2779 Mar  9 23:39 default.prop\r\n",
      "drwxr-xr-x  2    4096 Mar  9 23:39 dev\r\n",
      "-rw-r--r--  1 5513161 Mar  9 23:39 disp.ko\r\n",
      "drwxr-xr-x  2    4096 Mar  9 23:39 etc\r\n",
      "-rw-r-----  1     851 Mar  9 23:39 fstab.sun8i\r\n",
      "-rw-r--r--  1  360865 Mar  9 23:39 ft5x_ts.ko\r\n",
      "-rw-r--r--  1  515908 Mar  9 23:39 gslX680.ko\r\n",
      "-rw-r--r--  1  258952 Mar  9 23:39 gslX680new.ko\r\n",
      "-rw-r--r--  1  338644 Mar  9 23:39 gt818_ts.ko\r\n",
      "-rw-r--r--  1  137966 Mar  9 23:39 gt82x.ko\r\n",
      "-rw-r--r--  1  439901 Mar  9 23:39 gt9xxf_ts.ko\r\n",
      "-rw-r--r--  1  400708 Mar  9 23:39 gt9xx_ts.ko\r\n",
      "-rwxr-x---  1  113536 Mar  9 23:39 init\r\n",
      "-rwxr-x---  1 2457600 Mar  9 23:39 initlogo.rle\r\n",
      "-rwxr-x---  1    1514 Mar  9 23:39 init.rc\r\n",
      "-rw-r--r--  1  451089 Mar  9 23:39 lcd.ko\r\n",
      "-rw-r--r--  1 1453290 Mar  9 23:39 nand.ko\r\n",
      "drwxr-xr-x  2    4096 Mar  9 23:39 proc\r\n",
      "drwxr-xr-x  3    4096 Mar  9 23:39 res\r\n",
      "drwxr-x---  2    4096 Mar  9 23:39 sbin\r\n",
      "-rw-r--r--  1   87947 Mar  9 23:39 sunxi-keyboard.ko\r\n",
      "-rw-r--r--  1  143408 Mar  9 23:39 sw-device.ko\r\n",
      "drwxr-xr-x  2    4096 Mar  9 23:39 sys\r\n",
      "drwxr-xr-x  2    4096 Mar  9 23:39 system\r\n",
      "drwxr-xr-x  2    4096 Mar  9 23:39 tmp\r\n",
      "-rw-r--r--  1     272 Mar  9 23:39 ueventd.goldfish.rc\r\n",
      "-rw-r--r--  1    4024 Mar  9 23:39 ueventd.rc\r\n",
      "-rw-r--r--  1     995 Mar  9 23:39 ueventd.sun8i.rc\r\n"
     ]
    }
   ],
   "source": [
    "!ls -lgGa tablet/recovery/img-ramdisk/"
   ]
  },
  {
   "cell_type": "code",
   "execution_count": 19,
   "metadata": {
    "collapsed": false
   },
   "outputs": [
    {
     "name": "stdout",
     "output_type": "stream",
     "text": [
      "# These settings are specific to running under the Android emulator\r\n",
      "/dev/qemu_trace           0666   system     system\r\n",
      "/dev/qemu_pipe            0666   system     system\r\n",
      "/dev/ttyS*                0666   system     system\r\n",
      "/proc                     0666   system     system\r\n"
     ]
    }
   ],
   "source": [
    "!cat tablet/recovery/img-ramdisk/ueventd.goldfish.rc"
   ]
  },
  {
   "cell_type": "code",
   "execution_count": 20,
   "metadata": {
    "collapsed": false
   },
   "outputs": [
    {
     "name": "stdout",
     "output_type": "stream",
     "text": [
      "8\ttablet/recovery/img-ramdisk/etc\r\n",
      "328\ttablet/recovery/img-ramdisk/res/images\r\n",
      "336\ttablet/recovery/img-ramdisk/res\r\n",
      "552\ttablet/recovery/img-ramdisk/sbin\r\n",
      "4\ttablet/recovery/img-ramdisk/data\r\n",
      "4\ttablet/recovery/img-ramdisk/tmp\r\n",
      "4\ttablet/recovery/img-ramdisk/sys\r\n",
      "4\ttablet/recovery/img-ramdisk/proc\r\n",
      "4\ttablet/recovery/img-ramdisk/system\r\n",
      "4\ttablet/recovery/img-ramdisk/dev\r\n",
      "13764\ttablet/recovery/img-ramdisk/\r\n"
     ]
    }
   ],
   "source": [
    "!du tablet/recovery/img-ramdisk/"
   ]
  },
  {
   "cell_type": "code",
   "execution_count": 21,
   "metadata": {
    "collapsed": false
   },
   "outputs": [
    {
     "name": "stdout",
     "output_type": "stream",
     "text": [
      "00000000  41 4e 44 52 4f 49 44 21  a4 89 74 00 00 80 00 40  |ANDROID!..t....@|\r\n",
      "00000010  84 cd 55 00 00 00 00 41  00 00 00 00 00 00 f0 40  |..U....A.......@|\r\n",
      "00000020  00 01 00 40 00 08 00 00  00 00 00 00 00 00 00 00  |...@............|\r\n",
      "00000030  00 00 00 00 00 00 00 00  00 00 00 00 00 00 00 00  |................|\r\n",
      "00000040  63 6f 6e 73 6f 6c 65 3d  74 74 79 53 30 2c 31 31  |console=ttyS0,11|\r\n",
      "00000050  35 32 30 30 20 72 77 20  69 6e 69 74 3d 2f 69 6e  |5200 rw init=/in|\r\n",
      "00000060  69 74 20 6c 6f 67 6c 65  76 65 6c 3d 34 00 00 00  |it loglevel=4...|\r\n",
      "00000070  00 00 00 00 00 00 00 00  00 00 00 00 00 00 00 00  |................|\r\n",
      "00000080\r\n"
     ]
    }
   ],
   "source": [
    "!hexdump -C -n 128 tablet/nandg.recovery.img"
   ]
  },
  {
   "cell_type": "code",
   "execution_count": 22,
   "metadata": {
    "collapsed": false
   },
   "outputs": [
    {
     "name": "stdout",
     "output_type": "stream",
     "text": [
      "00000000  63 6f 6e 73 6f 6c 65 3d  74 74 79 53 30 2c 31 31  |console=ttyS0,11|\r\n",
      "00000010  35 32 30 30 20 72 77 20  69 6e 69 74 3d 2f 69 6e  |5200 rw init=/in|\r\n",
      "00000020  69 74 20 6c 6f 67 6c 65  76 65 6c 3d 34 0a        |it loglevel=4.|\r\n",
      "0000002e\r\n"
     ]
    }
   ],
   "source": [
    "!hexdump -C tablet/recovery/nandg.recovery.img-cmdline"
   ]
  },
  {
   "cell_type": "code",
   "execution_count": 23,
   "metadata": {
    "collapsed": false
   },
   "outputs": [
    {
     "name": "stdout",
     "output_type": "stream",
     "text": [
      "total 12876\r\n",
      "-rw-r--r-- 1 kevin kevin  425152 Mar  9 23:39 aw5306_ts.ko\r\n",
      "drwxrwx--x 2 kevin kevin    4096 Mar  9 23:39 data\r\n",
      "-rw-r--r-- 1 kevin kevin    2779 Mar  9 23:39 default.prop\r\n",
      "drwxr-xr-x 2 kevin kevin    4096 Mar  9 23:39 dev\r\n",
      "-rw-r--r-- 1 kevin kevin 5513161 Mar  9 23:39 disp.ko\r\n",
      "drwxr-xr-x 2 kevin kevin    4096 Mar  9 23:39 etc\r\n",
      "-rw-r----- 1 kevin kevin     851 Mar  9 23:39 fstab.sun8i\r\n",
      "-rw-r--r-- 1 kevin kevin  360865 Mar  9 23:39 ft5x_ts.ko\r\n",
      "-rw-r--r-- 1 kevin kevin  515908 Mar  9 23:39 gslX680.ko\r\n",
      "-rw-r--r-- 1 kevin kevin  258952 Mar  9 23:39 gslX680new.ko\r\n",
      "-rw-r--r-- 1 kevin kevin  338644 Mar  9 23:39 gt818_ts.ko\r\n",
      "-rw-r--r-- 1 kevin kevin  137966 Mar  9 23:39 gt82x.ko\r\n",
      "-rw-r--r-- 1 kevin kevin  439901 Mar  9 23:39 gt9xxf_ts.ko\r\n",
      "-rw-r--r-- 1 kevin kevin  400708 Mar  9 23:39 gt9xx_ts.ko\r\n",
      "-rwxr-x--- 1 kevin kevin  113536 Mar  9 23:39 init\r\n",
      "-rwxr-x--- 1 kevin kevin 2457600 Mar  9 23:39 initlogo.rle\r\n",
      "-rwxr-x--- 1 kevin kevin    1514 Mar  9 23:39 init.rc\r\n",
      "-rw-r--r-- 1 kevin kevin  451089 Mar  9 23:39 lcd.ko\r\n",
      "-rw-r--r-- 1 kevin kevin 1453290 Mar  9 23:39 nand.ko\r\n",
      "drwxr-xr-x 2 kevin kevin    4096 Mar  9 23:39 proc\r\n",
      "drwxr-xr-x 3 kevin kevin    4096 Mar  9 23:39 res\r\n",
      "drwxr-x--- 2 kevin kevin    4096 Mar  9 23:39 sbin\r\n",
      "-rw-r--r-- 1 kevin kevin   87947 Mar  9 23:39 sunxi-keyboard.ko\r\n",
      "-rw-r--r-- 1 kevin kevin  143408 Mar  9 23:39 sw-device.ko\r\n",
      "drwxr-xr-x 2 kevin kevin    4096 Mar  9 23:39 sys\r\n",
      "drwxr-xr-x 2 kevin kevin    4096 Mar  9 23:39 system\r\n",
      "drwxr-xr-x 2 kevin kevin    4096 Mar  9 23:39 tmp\r\n",
      "-rw-r--r-- 1 kevin kevin     272 Mar  9 23:39 ueventd.goldfish.rc\r\n",
      "-rw-r--r-- 1 kevin kevin    4024 Mar  9 23:39 ueventd.rc\r\n",
      "-rw-r--r-- 1 kevin kevin     995 Mar  9 23:39 ueventd.sun8i.rc\r\n"
     ]
    }
   ],
   "source": [
    "!ls -l tablet/recovery/img-ramdisk/"
   ]
  },
  {
   "cell_type": "code",
   "execution_count": null,
   "metadata": {
    "collapsed": false
   },
   "outputs": [],
   "source": []
  }
 ],
 "metadata": {
  "kernelspec": {
   "display_name": "Python 2",
   "language": "python",
   "name": "python2"
  },
  "language_info": {
   "codemirror_mode": {
    "name": "ipython",
    "version": 2
   },
   "file_extension": ".py",
   "mimetype": "text/x-python",
   "name": "python",
   "nbconvert_exporter": "python",
   "pygments_lexer": "ipython2",
   "version": "2.7.8"
  }
 },
 "nbformat": 4,
 "nbformat_minor": 0
}
