{
 "cells": [
  {
   "cell_type": "markdown",
   "metadata": {},
   "source": [
    "What you need:\n",
    "* The tablet or phone should be connected to the computer with debug mode enabled and an adbd server running and connected to the tablet\n",
    "\n",
    "[Enabling adb Debugging](http://developer.android.com/tools/help/adb.html#Enabling)"
   ]
  },
  {
   "cell_type": "code",
   "execution_count": 14,
   "metadata": {
    "collapsed": false
   },
   "outputs": [
    {
     "name": "stdout",
     "output_type": "stream",
     "text": [
      "List of devices attached \r\n",
      "554794d3444cc8b0708\tdevice\r\n",
      "\r\n"
     ]
    }
   ],
   "source": [
    "# Check if we can talk to the tablet\n",
    "!tools/adb devices"
   ]
  },
  {
   "cell_type": "markdown",
   "metadata": {},
   "source": [
    "When our device shows up in the list of devices we should be good to go.  The rest of these instructions assume this is set up and also that only one device is attached."
   ]
  },
  {
   "cell_type": "code",
   "execution_count": 6,
   "metadata": {
    "collapsed": false
   },
   "outputs": [
    {
     "name": "stdout",
     "output_type": "stream",
     "text": [
      "major minor  #blocks  name\r\n",
      "\r\n",
      "  93        0      32768 nanda\r\n",
      "  93        8      16384 nandb\r\n",
      "  93       16      16384 nandc\r\n",
      "  93       24     786432 nandd\r\n",
      "  93       32    1048576 nande\r\n",
      "  93       40      16384 nandf\r\n",
      "  93       48      32768 nandg\r\n",
      "  93       56     131072 nandh\r\n",
      "  93       64     131072 nandi\r\n",
      "  93       72    4675584 nandj\r\n"
     ]
    }
   ],
   "source": [
    "%%bash\n",
    "# Lets note what partitions we have on the device\n",
    "\n",
    "tools/adb shell \"cat /proc/partitions\" > device_info/partitions.proc.info\n",
    "cat device_info/partitions.proc.info"
   ]
  },
  {
   "cell_type": "code",
   "execution_count": 7,
   "metadata": {
    "collapsed": false
   },
   "outputs": [
    {
     "name": "stdout",
     "output_type": "stream",
     "text": [
      "lrwxrwxrwx root     root              2015-03-14 14:17 UDISK -> /dev/block/nandj\r\n",
      "lrwxrwxrwx root     root              2015-03-14 14:17 boot -> /dev/block/nandc\r\n",
      "lrwxrwxrwx root     root              2015-03-14 14:17 boot-resource -> /dev/block/nanda\r\n",
      "lrwxrwxrwx root     root              2015-03-14 14:17 cache -> /dev/block/nandh\r\n",
      "lrwxrwxrwx root     root              2015-03-14 14:17 data -> /dev/block/nande\r\n",
      "lrwxrwxrwx root     root              2015-03-14 14:17 databk -> /dev/block/nandi\r\n",
      "lrwxrwxrwx root     root              2015-03-14 14:17 env -> /dev/block/nandb\r\n",
      "lrwxrwxrwx root     root              2015-03-14 14:17 misc -> /dev/block/nandf\r\n",
      "lrwxrwxrwx root     root              2015-03-14 14:17 recovery -> /dev/block/nandg\r\n",
      "lrwxrwxrwx root     root              2015-03-14 14:17 system -> /dev/block/nandd\r\n"
     ]
    }
   ],
   "source": [
    "%%bash\n",
    "# Lets note the nameing conventions in the device\n",
    "\n",
    "tools/adb shell \"ls -al /dev/block/by-name\" > device_info/by-name.block.dev.info\n",
    "cat device_info/by-name.block.dev.info"
   ]
  },
  {
   "cell_type": "markdown",
   "metadata": {},
   "source": [
    "I've used a method below to dump our partitions straight to our local file system.  Because the adb shell acts as a terminal it doesn't handle binary data very well when piping the out put (creates a few crlf linefeed stuff which doesn't help our data).  Fortunately the device i'm using did have busybox installed which has a handy tool for sending binary data. Here is the link to the article which may explain this more...\n",
    "[Read binary stdout data from adb shell?](http://stackoverflow.com/questions/13578416/read-binary-stdout-data-from-adb-shell)"
   ]
  },
  {
   "cell_type": "code",
   "execution_count": 1,
   "metadata": {
    "collapsed": false
   },
   "outputs": [],
   "source": [
    "# Now lets pull each partition into our tablet directory only pull one at a time\n",
    "\n",
    "!tools/adb shell \"busybox stty -onlcr; dd if=/dev/block/nanda\" > tablet/nanda.boot-resource.img"
   ]
  },
  {
   "cell_type": "code",
   "execution_count": 2,
   "metadata": {
    "collapsed": false
   },
   "outputs": [],
   "source": [
    "!tools/adb shell \"busybox stty -onlcr; dd if=/dev/block/nandb\" > tablet/nandb.env.img"
   ]
  },
  {
   "cell_type": "code",
   "execution_count": 3,
   "metadata": {
    "collapsed": false
   },
   "outputs": [],
   "source": [
    "!tools/adb shell \"busybox stty -onlcr; dd if=/dev/block/nandc\" > tablet/nandc.boot.img"
   ]
  },
  {
   "cell_type": "code",
   "execution_count": 4,
   "metadata": {
    "collapsed": false
   },
   "outputs": [],
   "source": [
    "!tools/adb shell \"busybox stty -onlcr; dd if=/dev/block/nandd\" > tablet/nandd.system.img"
   ]
  },
  {
   "cell_type": "code",
   "execution_count": 11,
   "metadata": {
    "collapsed": false
   },
   "outputs": [],
   "source": [
    "# Optional you may not need this if you plan on clearing all data\n",
    "\n",
    "#!tools/adb shell \"busybox stty -onlcr; dd if=/dev/block/nande\" > tablet/nande.data.img"
   ]
  },
  {
   "cell_type": "code",
   "execution_count": 8,
   "metadata": {
    "collapsed": false
   },
   "outputs": [],
   "source": [
    "!tools/adb shell \"busybox stty -onlcr; dd if=/dev/block/nandf\" > tablet/nandf.misc.img"
   ]
  },
  {
   "cell_type": "code",
   "execution_count": 5,
   "metadata": {
    "collapsed": false
   },
   "outputs": [],
   "source": [
    "!tools/adb shell \"busybox stty -onlcr; dd if=/dev/block/nandg\" > tablet/nandg.recovery.img"
   ]
  },
  {
   "cell_type": "code",
   "execution_count": 9,
   "metadata": {
    "collapsed": false
   },
   "outputs": [],
   "source": [
    "# Optional would probably want to just clear this\n",
    "\n",
    "#!tools/adb shell \"busybox stty -onlcr; dd if=/dev/block/nandh\" > tablet/nandh.cache.img"
   ]
  },
  {
   "cell_type": "code",
   "execution_count": 10,
   "metadata": {
    "collapsed": false
   },
   "outputs": [],
   "source": [
    "# Probably optional as well, may hold a tar.gz backup file\n",
    "\n",
    "!tools/adb shell \"busybox stty -onlcr; dd if=/dev/block/nandi\" > tablet/nandi.databk.img"
   ]
  },
  {
   "cell_type": "code",
   "execution_count": 12,
   "metadata": {
    "collapsed": false
   },
   "outputs": [],
   "source": [
    "# Optional this is the SD-Card which can be 4GB upwards depends if you want to back it up\n",
    "\n",
    "#!tools/adb shell \"busybox stty -onlcr; dd if=/dev/block/nandj\" > tablet/nandj.UDISK.img"
   ]
  },
  {
   "cell_type": "code",
   "execution_count": 15,
   "metadata": {
    "collapsed": false
   },
   "outputs": [
    {
     "name": "stdout",
     "output_type": "stream",
     "text": [
      "-rwxrwxrwx 1  33554532 Mar 16 12:35 tablet/nanda.boot-resource.img\r\n",
      "-rwxrwxrwx 1  16777316 Mar 16 12:37 tablet/nandb.env.img\r\n",
      "-rwxrwxrwx 1  16777316 Mar 16 12:37 tablet/nandc.boot.img\r\n",
      "-rwxrwxrwx 1 805306475 Mar 16 12:42 tablet/nandd.system.img\r\n",
      "-rwxrwxrwx 1  16777316 Mar 16 13:04 tablet/nandf.misc.img\r\n",
      "-rwxrwxrwx 1  33554532 Mar 16 12:43 tablet/nandg.recovery.img\r\n",
      "-rwxrwxrwx 1 134217832 Mar 16 13:06 tablet/nandi.databk.img\r\n"
     ]
    }
   ],
   "source": [
    "# We should now have a backup or each partition\n",
    "!ls -lGg tablet/*.img"
   ]
  },
  {
   "cell_type": "code",
   "execution_count": 16,
   "metadata": {
    "collapsed": false
   },
   "outputs": [
    {
     "name": "stdout",
     "output_type": "stream",
     "text": [
      "tablet/nanda.boot-resource.img\n",
      "tablet/nandb.env.img\n",
      "tablet/nandc.boot.img\n",
      "tablet/nandd.system.img\n",
      "tablet/nandf.misc.img\n",
      "tablet/nandg.recovery.img\n",
      "tablet/nandi.databk.img\n"
     ]
    }
   ],
   "source": [
    "# Lets archive what we've got and can refer to the originals without having to dump again\n",
    "!tar zcvf org/Allwinner_Polaris_A70H.tar.gz tablet/*.img"
   ]
  },
  {
   "cell_type": "markdown",
   "metadata": {},
   "source": [
    "Now lets investigate what we've got..."
   ]
  }
 ],
 "metadata": {
  "kernelspec": {
   "display_name": "Python 2",
   "language": "python",
   "name": "python2"
  },
  "language_info": {
   "codemirror_mode": {
    "name": "ipython",
    "version": 2
   },
   "file_extension": ".py",
   "mimetype": "text/x-python",
   "name": "python",
   "nbconvert_exporter": "python",
   "pygments_lexer": "ipython2",
   "version": "2.7.8"
  }
 },
 "nbformat": 4,
 "nbformat_minor": 0
}
