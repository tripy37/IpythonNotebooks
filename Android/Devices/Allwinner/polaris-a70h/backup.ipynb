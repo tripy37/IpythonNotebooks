{
 "cells": [
  {
   "cell_type": "markdown",
   "metadata": {},
   "source": [
    "We can connect to our device using the android tool adb\n",
    "\n",
    "You should have an adb server deamon running already with root"
   ]
  },
  {
   "cell_type": "code",
   "execution_count": 11,
   "metadata": {
    "collapsed": false
   },
   "outputs": [],
   "source": [
    "# Lets note what partitions we have on the device\n",
    "!tools/adb shell \"cat /proc/partitions\" > device_info/partitions.proc.info"
   ]
  },
  {
   "cell_type": "code",
   "execution_count": 1,
   "metadata": {
    "collapsed": false
   },
   "outputs": [
    {
     "name": "stdout",
     "output_type": "stream",
     "text": [
      "major minor  #blocks  name\r",
      "\r\n",
      "\r",
      "\r\n",
      "  93        0      32768 nanda\r",
      "\r\n",
      "  93        8      16384 nandb\r",
      "\r\n",
      "  93       16      16384 nandc\r",
      "\r\n",
      "  93       24     786432 nandd\r",
      "\r\n",
      "  93       32    1048576 nande\r",
      "\r\n",
      "  93       40      16384 nandf\r",
      "\r\n",
      "  93       48      32768 nandg\r",
      "\r\n",
      "  93       56     131072 nandh\r",
      "\r\n",
      "  93       64     131072 nandi\r",
      "\r\n",
      "  93       72    4675584 nandj\r",
      "\r\n"
     ]
    }
   ],
   "source": [
    "cat device_info/partitions.proc.info"
   ]
  },
  {
   "cell_type": "code",
   "execution_count": 13,
   "metadata": {
    "collapsed": false
   },
   "outputs": [],
   "source": [
    "# Lets note the nameing conventions in the device\n",
    "!tools/adb shell \"ls -al /dev/block/by-name\" > device_info/by-name.block.dev.info"
   ]
  },
  {
   "cell_type": "code",
   "execution_count": 2,
   "metadata": {
    "collapsed": false
   },
   "outputs": [
    {
     "name": "stdout",
     "output_type": "stream",
     "text": [
      "lrwxrwxrwx root     root              2015-03-14 14:17 UDISK -> /dev/block/nandj\r",
      "\r\n",
      "lrwxrwxrwx root     root              2015-03-14 14:17 boot -> /dev/block/nandc\r",
      "\r\n",
      "lrwxrwxrwx root     root              2015-03-14 14:17 boot-resource -> /dev/block/nanda\r",
      "\r\n",
      "lrwxrwxrwx root     root              2015-03-14 14:17 cache -> /dev/block/nandh\r",
      "\r\n",
      "lrwxrwxrwx root     root              2015-03-14 14:17 data -> /dev/block/nande\r",
      "\r\n",
      "lrwxrwxrwx root     root              2015-03-14 14:17 databk -> /dev/block/nandi\r",
      "\r\n",
      "lrwxrwxrwx root     root              2015-03-14 14:17 env -> /dev/block/nandb\r",
      "\r\n",
      "lrwxrwxrwx root     root              2015-03-14 14:17 misc -> /dev/block/nandf\r",
      "\r\n",
      "lrwxrwxrwx root     root              2015-03-14 14:17 recovery -> /dev/block/nandg\r",
      "\r\n",
      "lrwxrwxrwx root     root              2015-03-14 14:17 system -> /dev/block/nandd\r",
      "\r\n"
     ]
    }
   ],
   "source": [
    "cat device_info/by-name.block.dev.info"
   ]
  },
  {
   "cell_type": "code",
   "execution_count": 5,
   "metadata": {
    "collapsed": false
   },
   "outputs": [
    {
     "name": "stdout",
     "output_type": "stream",
     "text": [
      "65526+90 records in\r\n",
      "65552+1 records out\r\n",
      "33562881 bytes (34 MB) copied, 7.84205 s, 4.3 MB/s\r\n"
     ]
    }
   ],
   "source": [
    "# Now lets pull each partition into our tablet directory only pull one at a time\n",
    "\n",
    "!tools/adb shell \"dd if=/dev/block/nanda 2>/dev/null\" | dd of=tablet/nanda.boot-resource.img"
   ]
  },
  {
   "cell_type": "code",
   "execution_count": 6,
   "metadata": {
    "collapsed": false
   },
   "outputs": [
    {
     "name": "stdout",
     "output_type": "stream",
     "text": [
      "32768+0 records in\r\n",
      "32768+0 records out\r\n",
      "16777216 bytes (17 MB) copied, 3.99497 s, 4.2 MB/s\r\n"
     ]
    }
   ],
   "source": [
    "!tools/adb shell \"dd if=/dev/block/nandb 2>/dev/null\" | dd of=tablet/nandb.env.img"
   ]
  },
  {
   "cell_type": "code",
   "execution_count": 7,
   "metadata": {
    "collapsed": false
   },
   "outputs": [
    {
     "name": "stdout",
     "output_type": "stream",
     "text": [
      "32450+1088 records in\r\n",
      "32941+1 records out\r\n",
      "16866141 bytes (17 MB) copied, 5.90316 s, 2.9 MB/s\r\n"
     ]
    }
   ],
   "source": [
    "!tools/adb shell \"dd if=/dev/block/nandc 2>/dev/null\" | dd of=tablet/nandc.boot.img"
   ]
  },
  {
   "cell_type": "code",
   "execution_count": 8,
   "metadata": {
    "collapsed": false
   },
   "outputs": [
    {
     "name": "stdout",
     "output_type": "stream",
     "text": [
      "1562816+35293 records in\r\n",
      "1577750+1 records out\r\n",
      "807808272 bytes (808 MB) copied, 244.414 s, 3.3 MB/s\r\n"
     ]
    }
   ],
   "source": [
    "!tools/adb shell \"dd if=/dev/block/nandd 2>/dev/null\" | dd of=tablet/nandd.system.img"
   ]
  },
  {
   "cell_type": "code",
   "execution_count": 9,
   "metadata": {
    "collapsed": false
   },
   "outputs": [
    {
     "name": "stdout",
     "output_type": "stream",
     "text": [
      "2086471+59203 records in\r\n",
      "2111711+1 records out\r\n",
      "1081196242 bytes (1.1 GB) copied, 400.796 s, 2.7 MB/s\r\n"
     ]
    }
   ],
   "source": [
    "!tools/adb shell \"dd if=/dev/block/nande 2>/dev/null\" | dd of=tablet/nande.data.img"
   ]
  },
  {
   "cell_type": "code",
   "execution_count": 10,
   "metadata": {
    "collapsed": false
   },
   "outputs": [
    {
     "name": "stdout",
     "output_type": "stream",
     "text": [
      "32768+0 records in\r\n",
      "32768+0 records out\r\n",
      "16777216 bytes (17 MB) copied, 4.18592 s, 4.0 MB/s\r\n"
     ]
    }
   ],
   "source": [
    "!tools/adb shell \"dd if=/dev/block/nandf 2>/dev/null\" | dd of=tablet/nandf.misc.img"
   ]
  },
  {
   "cell_type": "code",
   "execution_count": 11,
   "metadata": {
    "collapsed": false
   },
   "outputs": [
    {
     "name": "stdout",
     "output_type": "stream",
     "text": [
      "65017+1626 records in\r\n",
      "65735+1 records out\r\n",
      "33656486 bytes (34 MB) copied, 10.2956 s, 3.3 MB/s\r\n"
     ]
    }
   ],
   "source": [
    "!tools/adb shell \"dd if=/dev/block/nandg 2>/dev/null\" | dd of=tablet/nandg.recovery.img"
   ]
  },
  {
   "cell_type": "code",
   "execution_count": 12,
   "metadata": {
    "collapsed": false
   },
   "outputs": [
    {
     "name": "stdout",
     "output_type": "stream",
     "text": [
      "262151+5 records in\r\n",
      "262151+1 records out\r\n",
      "134221551 bytes (134 MB) copied, 31.61 s, 4.2 MB/s\r\n"
     ]
    }
   ],
   "source": [
    "!tools/adb shell \"dd if=/dev/block/nandh 2>/dev/null\" | dd of=tablet/nandh.cache.img"
   ]
  },
  {
   "cell_type": "code",
   "execution_count": 13,
   "metadata": {
    "collapsed": false
   },
   "outputs": [
    {
     "name": "stdout",
     "output_type": "stream",
     "text": [
      "262144+3 records in\r\n",
      "262144+1 records out\r\n",
      "134217762 bytes (134 MB) copied, 31.7368 s, 4.2 MB/s\r\n"
     ]
    }
   ],
   "source": [
    "!tools/adb shell \"dd if=/dev/block/nandi 2>/dev/null\" | dd of=tablet/nandi.databk.img"
   ]
  },
  {
   "cell_type": "code",
   "execution_count": 14,
   "metadata": {
    "collapsed": false
   },
   "outputs": [
    {
     "name": "stdout",
     "output_type": "stream",
     "text": [
      "9338571+99970 records in\r\n",
      "9381891+1 records out\r\n",
      "4803528369 bytes (4.8 GB) copied, 1518.96 s, 3.2 MB/s\r\n"
     ]
    }
   ],
   "source": [
    "!tools/adb shell \"dd if=/dev/block/nandj 2>/dev/null\" | dd of=tablet/nandj.UDISK.img"
   ]
  },
  {
   "cell_type": "code",
   "execution_count": 16,
   "metadata": {
    "collapsed": false
   },
   "outputs": [
    {
     "name": "stdout",
     "output_type": "stream",
     "text": [
      "-rwxrwxrwx 1   33562881 Mar 14 14:22 tablet/nanda.boot-resource.img\r\n",
      "-rwxrwxrwx 1   16777216 Mar 14 14:23 tablet/nandb.env.img\r\n",
      "-rwxrwxrwx 1   16866141 Mar 14 14:24 tablet/nandc.boot.img\r\n",
      "-rwxrwxrwx 1  807808272 Mar 14 14:30 tablet/nandd.system.img\r\n",
      "-rwxrwxrwx 1 1081196242 Mar 14 14:38 tablet/nande.data.img\r\n",
      "-rwxrwxrwx 1   16777216 Mar 14 14:41 tablet/nandf.misc.img\r\n",
      "-rwxrwxrwx 1   33656486 Mar 14 14:41 tablet/nandg.recovery.img\r\n",
      "-rwxrwxrwx 1  134221551 Mar 14 14:42 tablet/nandh.cache.img\r\n",
      "-rwxrwxrwx 1  134217762 Mar 14 14:47 tablet/nandi.databk.img\r\n",
      "-rwxrwxrwx 1 4803528369 Mar 14 15:13 tablet/nandj.UDISK.img\r\n"
     ]
    }
   ],
   "source": [
    "# We should now have a backup or each partition\n",
    "!ls -lGg tablet/*.img"
   ]
  },
  {
   "cell_type": "code",
   "execution_count": 17,
   "metadata": {
    "collapsed": false
   },
   "outputs": [
    {
     "name": "stdout",
     "output_type": "stream",
     "text": [
      "tablet/nanda.boot-resource.img\n",
      "tablet/nandb.env.img\n",
      "tablet/nandc.boot.img\n",
      "tablet/nandd.system.img\n",
      "tablet/nande.data.img\n",
      "tablet/nandf.misc.img\n",
      "tablet/nandg.recovery.img\n",
      "tablet/nandh.cache.img\n",
      "tablet/nandi.databk.img\n",
      "tablet/nandj.UDISK.img\n"
     ]
    }
   ],
   "source": [
    "# Lets archive what we've got and can refer to the originals without having to dump again\n",
    "!tar zcvf org/Allwinner_Polaris_A70H.tar.gz tablet/*.img"
   ]
  }
 ],
 "metadata": {
  "kernelspec": {
   "display_name": "Python 2",
   "language": "python",
   "name": "python2"
  },
  "language_info": {
   "codemirror_mode": {
    "name": "ipython",
    "version": 2
   },
   "file_extension": ".py",
   "mimetype": "text/x-python",
   "name": "python",
   "nbconvert_exporter": "python",
   "pygments_lexer": "ipython2",
   "version": "2.7.8"
  }
 },
 "nbformat": 4,
 "nbformat_minor": 0
}
