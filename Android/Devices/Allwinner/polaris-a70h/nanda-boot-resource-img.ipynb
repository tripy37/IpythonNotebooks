{
 "cells": [
  {
   "cell_type": "markdown",
   "metadata": {},
   "source": [
    "The nanda resource image, further investigation needed."
   ]
  },
  {
   "cell_type": "code",
   "execution_count": 1,
   "metadata": {
    "collapsed": false
   },
   "outputs": [
    {
     "name": "stdout",
     "output_type": "stream",
     "text": [
      "32772\ttablet/nanda.boot-resource.img\r\n"
     ]
    }
   ],
   "source": [
    "# The partition size of the image in bytes\n",
    "\n",
    "!du tablet/nanda.boot-resource.img"
   ]
  },
  {
   "cell_type": "code",
   "execution_count": 2,
   "metadata": {
    "collapsed": false
   },
   "outputs": [
    {
     "name": "stdout",
     "output_type": "stream",
     "text": [
      "tablet/nanda.boot-resource.img: DOS/MBR boot sector\r\n"
     ]
    }
   ],
   "source": [
    "# We can use file to find out what kind of image we have.\n",
    "\n",
    "!file tablet/nanda.boot-resource.img"
   ]
  },
  {
   "cell_type": "code",
   "execution_count": 3,
   "metadata": {
    "collapsed": false
   },
   "outputs": [],
   "source": [
    "# We can mount this image file and investigate what we have\n",
    "\n",
    "!xterm -e sudo mount -o loop tablet/nanda.boot-resource.img tablet/boot-resource/"
   ]
  },
  {
   "cell_type": "code",
   "execution_count": 8,
   "metadata": {
    "collapsed": false
   },
   "outputs": [
    {
     "name": "stdout",
     "output_type": "stream",
     "text": [
      "total 806\r\n",
      "drwxr-xr-x 3 root root  16384 Jan  1  1970 .\r\n",
      "drwxrwxrwx 1 root root   4096 Mar 17 08:40 ..\r\n",
      "drwxr-xr-x 2 root root   2048 Jan  1  1980 bat\r\n",
      "-rwxr-xr-x 1 root root  57654 Jan  1  1980 bootlogo.bmp\r\n",
      "-rwxr-xr-x 1 root root 344813 Jan  1  1980 font24.sft\r\n",
      "-rwxr-xr-x 1 root root 357443 Jan  1  1980 font32.sft\r\n",
      "-rwxr-xr-x 1 root root    512 Jan  1  1980 magic.bin\r\n",
      "-rwxr-xr-x 1 root root  36496 Jan  1  1980 script0.bin\r\n"
     ]
    }
   ],
   "source": [
    "# And this is what we get from unpacking this image file\n",
    "\n",
    "!ls -la tablet/boot-resource/"
   ]
  }
 ],
 "metadata": {
  "kernelspec": {
   "display_name": "Python 2",
   "language": "python",
   "name": "python2"
  },
  "language_info": {
   "codemirror_mode": {
    "name": "ipython",
    "version": 2
   },
   "file_extension": ".py",
   "mimetype": "text/x-python",
   "name": "python",
   "nbconvert_exporter": "python",
   "pygments_lexer": "ipython2",
   "version": "2.7.8"
  }
 },
 "nbformat": 4,
 "nbformat_minor": 0
}
