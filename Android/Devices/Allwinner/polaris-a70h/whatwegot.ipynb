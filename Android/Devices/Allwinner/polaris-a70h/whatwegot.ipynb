{
 "cells": [
  {
   "cell_type": "markdown",
   "metadata": {},
   "source": [
    "In this series of notebooks, i'm going to note the steps i have taken to investigate what damage OEM companies are able to do to  the android platform.  This was an attempt to find out what parts of the tablet or phone were tampered with by the company or individual befor being shipped to the end user.  Hopefully I may be able to find a solution to fix any damage done and try to reach a position of confidence that the original ROM can be considered free from any malicous code.\n",
    "\n",
    "Series of Steps:\n",
    "* Back up the Tablet/Phone by retrieving the partitions or drive images.\n",
    "  * [Backup partitions from tablet](./backup.ipynb)\n",
    "  * [Partition nandg recovery image](./nandg-recovery-img.ipynb)\n",
    "* Investigate the file system layout and determine boot process and initialisation of device.\n",
    "* Detemine areas of vunriablity and try to discount if said areas have been tampered with.\n",
    "* Investigate tampered areas and seek possible solutioins to clear or fix damaged or surplus code."
   ]
  },
  {
   "cell_type": "code",
   "execution_count": 1,
   "metadata": {
    "collapsed": false
   },
   "outputs": [
    {
     "name": "stdout",
     "output_type": "stream",
     "text": [
      "-rwxrwxrwx 1 4803528369 Mar 14 15:13 tablet/nandj.UDISK.img\r\n",
      "-rwxrwxrwx 1 1081196242 Mar 14 14:38 tablet/nande.data.img\r\n",
      "-rwxrwxrwx 1  807808272 Mar 14 14:30 tablet/nandd.system.img\r\n",
      "-rwxrwxrwx 1  134221551 Mar 14 14:42 tablet/nandh.cache.img\r\n",
      "-rwxrwxrwx 1  134217762 Mar 14 14:47 tablet/nandi.databk.img\r\n",
      "-rwxrwxrwx 1   33656486 Mar 14 14:41 tablet/nandg.recovery.img\r\n",
      "-rwxrwxrwx 1   33562881 Mar 14 14:22 tablet/nanda.boot-resource.img\r\n",
      "-rwxrwxrwx 1   16866141 Mar 14 14:24 tablet/nandc.boot.img\r\n",
      "-rwxrwxrwx 1   16777216 Mar 14 14:23 tablet/nandb.env.img\r\n",
      "-rwxrwxrwx 1   16777216 Mar 14 14:41 tablet/nandf.misc.img\r\n"
     ]
    }
   ],
   "source": [
    "# Here we list the images pulled from the device\n",
    "\n",
    "!ls -lgGS tablet/*.img"
   ]
  }
 ],
 "metadata": {
  "kernelspec": {
   "display_name": "Python 2",
   "language": "python",
   "name": "python2"
  },
  "language_info": {
   "codemirror_mode": {
    "name": "ipython",
    "version": 2
   },
   "file_extension": ".py",
   "mimetype": "text/x-python",
   "name": "python",
   "nbconvert_exporter": "python",
   "pygments_lexer": "ipython2",
   "version": "2.7.8"
  }
 },
 "nbformat": 4,
 "nbformat_minor": 0
}
