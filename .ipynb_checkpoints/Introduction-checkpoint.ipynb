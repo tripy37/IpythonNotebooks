{
 "cells": [
  {
   "cell_type": "markdown",
   "metadata": {},
   "source": [
    "Once I found ipython notebook, I'm getting kinda hooked on publishing some of my work into them.  So using nbviewer and git hub publishing your work can be quite painless, just work on your notebooks and then a quick git push and your published.\n",
    "\n",
    "So eventually this introduction will become an index or perhaps a blog of things i'm working on and will help colaberate with others"
   ]
  },
  {
   "cell_type": "markdown",
   "metadata": {},
   "source": [
    "# # Allwinner polaris A70H and CyanogenMod\n",
    "\n",
    "After discovering that cheap tablet I bought from china was riddled with 'whoknowsware' I thought having enjoyed the wonderful world of linux and OpenSource that we should be able to roll our own just like the days of bringing an old pc back to life with a nice fresh free from any 'whoknowsware' bloat, but alas it seems that unless you have a well known brand, this process may be a bit more complicated and time consuming than the net boot install pleasure of debian or arch linux.\n",
    "\n",
    "So having spent a bit of time bouncing around forums and websites that i will list later, I was at first looking for a simple and quick method of clearing out whatever was installed third party to android and hopefuly return a nice stock android tablet.  But just how deep was this stuff buried and was starting to doubt if you could reach a satisfactory stage to be confident it was clean.  Rolling my sleves up and thinking build it from source lets bring that old linux ninja hat out and lets try cook it ourselves.  A bit more time bouncing around forums and starting to feel this may take quite a few more ninja notches to my belt.\n",
    "\n",
    "And so we arrive here, I'm sketching out a few notebooks and seem to have a direction of building from source by means of quite an impressive project CyanogenMod.\n",
    "\n",
    "[Here is a list of notebooks](http://nbviewer.ipython.org/github/tripy37/IpythonNotebooks/tree/master/Android/Devices/Allwinner/polaris-a70h/)"
   ]
  }
 ],
 "metadata": {
  "kernelspec": {
   "display_name": "Python 2",
   "language": "python",
   "name": "python2"
  },
  "language_info": {
   "codemirror_mode": {
    "name": "ipython",
    "version": 2
   },
   "file_extension": ".py",
   "mimetype": "text/x-python",
   "name": "python",
   "nbconvert_exporter": "python",
   "pygments_lexer": "ipython2",
   "version": "2.7.8"
  }
 },
 "nbformat": 4,
 "nbformat_minor": 0
}
